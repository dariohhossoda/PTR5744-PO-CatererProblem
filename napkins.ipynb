{
 "cells": [
  {
   "cell_type": "markdown",
   "metadata": {},
   "source": [
    "# Problema dos Guardanapos"
   ]
  },
  {
   "cell_type": "markdown",
   "metadata": {},
   "source": [
    "Carregamento dos pacotes a serem utilizados.\n",
    "\n",
    "A documentação do pacote ortools pode ser encontrada [aqui](https://developers.google.com/optimization/flow/mincostflow)."
   ]
  },
  {
   "cell_type": "code",
   "execution_count": 1,
   "metadata": {},
   "outputs": [],
   "source": [
    "from ortools.graph import pywrapgraph\n"
   ]
  },
  {
   "cell_type": "markdown",
   "metadata": {},
   "source": [
    "Declaração do Solver"
   ]
  },
  {
   "cell_type": "code",
   "execution_count": 2,
   "metadata": {},
   "outputs": [],
   "source": [
    "min_cost_flow = pywrapgraph.SimpleMinCostFlow()\n"
   ]
  },
  {
   "cell_type": "markdown",
   "metadata": {},
   "source": [
    "Definição dos dados"
   ]
  },
  {
   "cell_type": "markdown",
   "metadata": {},
   "source": [
    "- Custos"
   ]
  },
  {
   "cell_type": "code",
   "execution_count": 3,
   "metadata": {},
   "outputs": [],
   "source": [
    "a = 200  # Comprar guardanapos\n",
    "b = 75  # Lavagem rápida\n",
    "c = 25  # Lavagem lenta\n"
   ]
  },
  {
   "cell_type": "markdown",
   "metadata": {},
   "source": [
    "- Tempos de lavagem"
   ]
  },
  {
   "cell_type": "code",
   "execution_count": 4,
   "metadata": {},
   "outputs": [],
   "source": [
    "p = 4  # Lavagem lenta\n",
    "q = 2  # Lavagem rápida\n"
   ]
  },
  {
   "cell_type": "markdown",
   "metadata": {},
   "source": [
    "- Quantidade de guardanapos para cada dia"
   ]
  },
  {
   "cell_type": "code",
   "execution_count": 5,
   "metadata": {},
   "outputs": [
    {
     "name": "stdout",
     "output_type": "stream",
     "text": [
      "São necessários 690 guardanapos ao longo dos 10 dias.\n"
     ]
    }
   ],
   "source": [
    "d = [-50, -60, -80, -70, -50, -60, -90, -80, -50, -100]\n",
    "total = -sum(d)\n",
    "print(f'São necessários {total} guardanapos ao longo dos 10 dias.')"
   ]
  },
  {
   "cell_type": "markdown",
   "metadata": {},
   "source": [
    "- Definição do grafo\n",
    "\n",
    "A identificação dos nós pode ser vista na [introdução e enunciado do problema](README.md)."
   ]
  },
  {
   "cell_type": "code",
   "execution_count": 6,
   "metadata": {},
   "outputs": [],
   "source": [
    "start_nodes = [0, 0, 0, 0, 0, 0, 0, 0, 0, 0, 0,\n",
    "               11, 11, 11,\n",
    "               12, 12, 12,\n",
    "               13, 13, 13,\n",
    "               14, 14, 14,\n",
    "               15, 15, 15,\n",
    "               16, 16, 16,\n",
    "               17, 17,\n",
    "               18, 18,\n",
    "               19,\n",
    "               20]\n",
    "\n",
    "end_nodes = [1, 2, 3, 4, 5, 6, 7, 8, 9, 10, 21,\n",
    "             3, 5, 12,\n",
    "             4, 6, 13,\n",
    "             5, 7, 14,\n",
    "             6, 8, 15,\n",
    "             7, 9, 16,\n",
    "             8, 10, 17,\n",
    "             9, 18,\n",
    "             10, 19,\n",
    "             20,\n",
    "             21]\n",
    "\n",
    "k = 999  # \"Ilimitado\"\n",
    "\n",
    "capacities = [k, k, k, k, k, k, k, k, k, k, k,\n",
    "              k, k, k, \n",
    "              k, k, k, \n",
    "              k, k, k, \n",
    "              k, k, k,\n",
    "              k, k, k,\n",
    "              k, k, k,\n",
    "              k, k,\n",
    "              k, k,\n",
    "              k,\n",
    "              k]\n",
    "\n",
    "unit_costs = [a, a, a, a, a, a, a, a, a, a, 0,\n",
    "              b, c, 0,\n",
    "              b, c, 0,\n",
    "              b, c, 0,\n",
    "              b, c, 0,\n",
    "              b, c, 0,\n",
    "              b, c, 0,\n",
    "              b, 0,\n",
    "              b, 0,\n",
    "              0,\n",
    "              0]\n",
    "\n",
    "supplies = [690,\n",
    "            d[0], d[1], d[2], d[3], d[4], d[5], d[6], d[7], d[8], d[9],\n",
    "            -d[0], -d[1], -d[2], -d[3], -d[4], -d[5], -d[6], -d[7], -d[8], -d[9],\n",
    "            -690]"
   ]
  },
  {
   "cell_type": "code",
   "execution_count": 7,
   "metadata": {},
   "outputs": [
    {
     "name": "stdout",
     "output_type": "stream",
     "text": [
      "Verificações:\n",
      "\n",
      "No. nós de começo: 35\n",
      "No. nós de fim: 35\n",
      "No. de custos unitários por nó: 35\n",
      "No. de capacidade nos nós: 35\n",
      "No. de fornecimentos (= No. nós): 22\n"
     ]
    }
   ],
   "source": [
    "print(f'Verificações:\\n\\n\\\n",
    "No. nós de começo: {len(start_nodes)}\\n\\\n",
    "No. nós de fim: {len(end_nodes)}\\n\\\n",
    "No. de custos unitários por nó: {len(unit_costs)}\\n\\\n",
    "No. de capacidade nos nós: {len(capacities)}\\n\\\n",
    "No. de fornecimentos (= No. nós): {len(supplies)}')"
   ]
  },
  {
   "cell_type": "markdown",
   "metadata": {},
   "source": [
    "- Definição dos arcos"
   ]
  },
  {
   "cell_type": "markdown",
   "metadata": {},
   "source": [
    "    - Adicionando cada arco"
   ]
  },
  {
   "cell_type": "code",
   "execution_count": 8,
   "metadata": {},
   "outputs": [
    {
     "name": "stdout",
     "output_type": "stream",
     "text": [
      "Arcos:\n",
      "\n",
      "(0, 1, 999, 200)\n",
      "(0, 2, 999, 200)\n",
      "(0, 3, 999, 200)\n",
      "(0, 4, 999, 200)\n",
      "(0, 5, 999, 200)\n",
      "(0, 6, 999, 200)\n",
      "(0, 7, 999, 200)\n",
      "(0, 8, 999, 200)\n",
      "(0, 9, 999, 200)\n",
      "(0, 10, 999, 200)\n",
      "(0, 21, 999, 0)\n",
      "(11, 3, 999, 75)\n",
      "(11, 5, 999, 25)\n",
      "(11, 12, 999, 0)\n",
      "(12, 4, 999, 75)\n",
      "(12, 6, 999, 25)\n",
      "(12, 13, 999, 0)\n",
      "(13, 5, 999, 75)\n",
      "(13, 7, 999, 25)\n",
      "(13, 14, 999, 0)\n",
      "(14, 6, 999, 75)\n",
      "(14, 8, 999, 25)\n",
      "(14, 15, 999, 0)\n",
      "(15, 7, 999, 75)\n",
      "(15, 9, 999, 25)\n",
      "(15, 16, 999, 0)\n",
      "(16, 8, 999, 75)\n",
      "(16, 10, 999, 25)\n",
      "(16, 17, 999, 0)\n",
      "(17, 9, 999, 75)\n",
      "(17, 18, 999, 0)\n",
      "(18, 10, 999, 75)\n",
      "(18, 19, 999, 0)\n",
      "(19, 20, 999, 0)\n",
      "(20, 21, 999, 0)\n"
     ]
    }
   ],
   "source": [
    "print('Arcos:\\n')\n",
    "for arc in zip(start_nodes, end_nodes, capacities, unit_costs):\n",
    "    print(arc)\n",
    "    min_cost_flow.AddArcWithCapacityAndUnitCost(arc[0], arc[1], arc[2], arc[3])"
   ]
  },
  {
   "cell_type": "markdown",
   "metadata": {},
   "source": [
    "    - Adicionando nós de fornecimento"
   ]
  },
  {
   "cell_type": "code",
   "execution_count": 9,
   "metadata": {},
   "outputs": [
    {
     "name": "stdout",
     "output_type": "stream",
     "text": [
      "Nó : Fornecimento/Demanda\n",
      "\n",
      "0 : 690\n",
      "1 : -50\n",
      "2 : -60\n",
      "3 : -80\n",
      "4 : -70\n",
      "5 : -50\n",
      "6 : -60\n",
      "7 : -90\n",
      "8 : -80\n",
      "9 : -50\n",
      "10 : -100\n",
      "11 : 50\n",
      "12 : 60\n",
      "13 : 80\n",
      "14 : 70\n",
      "15 : 50\n",
      "16 : 60\n",
      "17 : 90\n",
      "18 : 80\n",
      "19 : 50\n",
      "20 : 100\n",
      "21 : -690\n"
     ]
    }
   ],
   "source": [
    "print('Nó : Fornecimento/Demanda\\n')\n",
    "for count, supply in enumerate(supplies):\n",
    "    print(f'{count} : {supply}')\n",
    "    min_cost_flow.SetNodeSupply(count, supply)"
   ]
  },
  {
   "cell_type": "markdown",
   "metadata": {},
   "source": [
    "- Encontrando o custo mínimo"
   ]
  },
  {
   "cell_type": "code",
   "execution_count": 10,
   "metadata": {},
   "outputs": [],
   "source": [
    "status = min_cost_flow.Solve()"
   ]
  },
  {
   "cell_type": "code",
   "execution_count": 11,
   "metadata": {},
   "outputs": [
    {
     "name": "stdout",
     "output_type": "stream",
     "text": [
      "Resultado da tentativa de valor ótimo: 1\n",
      "Status da solução: 1\n"
     ]
    }
   ],
   "source": [
    "print(f'Resultado da tentativa de valor ótimo: {min_cost_flow.OPTIMAL}\\n\\\n",
    "Status da solução: {status}')\n"
   ]
  },
  {
   "cell_type": "code",
   "execution_count": 12,
   "metadata": {},
   "outputs": [
    {
     "name": "stdout",
     "output_type": "stream",
     "text": [
      "Minimum cost:  66750\n",
      "\n",
      " Arc   Flow / Capacity  Cost\n",
      "0 -> 1     50   / 999   10000\n",
      "0 -> 2     60   / 999   12000\n",
      "0 -> 3     80   / 999   16000\n",
      "0 -> 4     70   / 999   14000\n",
      "0 -> 5      0   / 999     0\n",
      "0 -> 6      0   / 999     0\n",
      "0 -> 7      0   / 999     0\n",
      "0 -> 8      0   / 999     0\n",
      "0 -> 9      0   / 999     0\n",
      "0 -> 10      0   / 999     0\n",
      "0 -> 21    430   / 999     0\n",
      "11 -> 3      0   / 999     0\n",
      "11 -> 5     50   / 999   1250\n",
      "11 -> 12      0   / 999     0\n",
      "12 -> 4      0   / 999     0\n",
      "12 -> 6     60   / 999   1500\n",
      "12 -> 13      0   / 999     0\n",
      "13 -> 5      0   / 999     0\n",
      "13 -> 7     80   / 999   2000\n",
      "13 -> 14      0   / 999     0\n",
      "14 -> 6      0   / 999     0\n",
      "14 -> 8     70   / 999   1750\n",
      "14 -> 15      0   / 999     0\n",
      "15 -> 7     10   / 999   750\n",
      "15 -> 9     40   / 999   1000\n",
      "15 -> 16      0   / 999     0\n",
      "16 -> 8     10   / 999   750\n",
      "16 -> 10     50   / 999   1250\n",
      "16 -> 17      0   / 999     0\n",
      "17 -> 9     10   / 999   750\n",
      "17 -> 18     80   / 999     0\n",
      "18 -> 10     50   / 999   3750\n",
      "18 -> 19    110   / 999     0\n",
      "19 -> 20    160   / 999     0\n",
      "20 -> 21    260   / 999     0\n"
     ]
    }
   ],
   "source": [
    "if status != min_cost_flow.OPTIMAL:\n",
    "    print('There was an issue with the min cost flow input.')\n",
    "    print(f'Status: {status}')\n",
    "else:\n",
    "    print('Minimum cost: ', min_cost_flow.OptimalCost())\n",
    "    print('')\n",
    "    print(' Arc   Flow / Capacity  Cost')\n",
    "    for i in range(min_cost_flow.NumArcs()):\n",
    "        cost = min_cost_flow.Flow(i) * min_cost_flow.UnitCost(i)\n",
    "        print('%1s -> %1s    %3s   / %3s   %3s' %\n",
    "            (min_cost_flow.Tail(i), min_cost_flow.Head(i),\n",
    "            min_cost_flow.Flow(i), min_cost_flow.Capacity(i), cost))\n"
   ]
  }
 ],
 "metadata": {
  "interpreter": {
   "hash": "f808a16ffd2dd3d41930b4a5b97ff321890e97b682fb7c9c0fe326b99d78ad54"
  },
  "kernelspec": {
   "display_name": "Python 3.9.7 ('base')",
   "language": "python",
   "name": "python3"
  },
  "language_info": {
   "codemirror_mode": {
    "name": "ipython",
    "version": 3
   },
   "file_extension": ".py",
   "mimetype": "text/x-python",
   "name": "python",
   "nbconvert_exporter": "python",
   "pygments_lexer": "ipython3",
   "version": "3.9.7"
  },
  "orig_nbformat": 4
 },
 "nbformat": 4,
 "nbformat_minor": 2
}
