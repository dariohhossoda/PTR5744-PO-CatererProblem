{
 "cells": [
  {
   "cell_type": "markdown",
   "metadata": {},
   "source": [
    "# Problema dos Guardanapos"
   ]
  },
  {
   "cell_type": "markdown",
   "metadata": {},
   "source": [
    "Carregamento dos pacotes a serem utilizados.\n",
    "\n",
    "A documentação do pacote ortools pode ser encontrada [aqui](https://developers.google.com/optimization/flow/mincostflow)."
   ]
  },
  {
   "cell_type": "code",
   "execution_count": 1,
   "metadata": {},
   "outputs": [],
   "source": [
    "from ortools.graph import pywrapgraph\n"
   ]
  },
  {
   "cell_type": "markdown",
   "metadata": {},
   "source": [
    "Declaração do Solver"
   ]
  },
  {
   "cell_type": "code",
   "execution_count": 2,
   "metadata": {},
   "outputs": [],
   "source": [
    "min_cost_flow = pywrapgraph.SimpleMinCostFlow()\n"
   ]
  },
  {
   "cell_type": "markdown",
   "metadata": {},
   "source": [
    "Definição dos dados"
   ]
  },
  {
   "cell_type": "markdown",
   "metadata": {},
   "source": [
    "- Custos"
   ]
  },
  {
   "cell_type": "code",
   "execution_count": 3,
   "metadata": {},
   "outputs": [],
   "source": [
    "a = 200\n",
    "b = 75\n",
    "c = 25\n"
   ]
  },
  {
   "cell_type": "markdown",
   "metadata": {},
   "source": [
    "- Tempos de lavagem"
   ]
  },
  {
   "cell_type": "code",
   "execution_count": 4,
   "metadata": {},
   "outputs": [],
   "source": [
    "p = 4\n",
    "q = 2\n"
   ]
  },
  {
   "cell_type": "markdown",
   "metadata": {},
   "source": [
    "- Quantidade de guardanapos para cada dia"
   ]
  },
  {
   "cell_type": "code",
   "execution_count": 5,
   "metadata": {},
   "outputs": [
    {
     "name": "stdout",
     "output_type": "stream",
     "text": [
      "Serão necessários 690 guardanapos ao longo dos 10 dias.\n"
     ]
    }
   ],
   "source": [
    "d = [-50, -60, -80, -70, -50, -60, -90, -80, -50, -100]\n",
    "total = -sum(d)\n",
    "print(f'Serão necessários {total} guardanapos ao longo dos 10 dias.')\n"
   ]
  },
  {
   "cell_type": "markdown",
   "metadata": {},
   "source": [
    "- Definição do grafo\n",
    "\n",
    "A identificação dos nós pode ser vista na [introdução e enunciado do problema](README.md)."
   ]
  },
  {
   "cell_type": "code",
   "execution_count": 30,
   "metadata": {},
   "outputs": [
    {
     "name": "stdout",
     "output_type": "stream",
     "text": [
      "Verificações:\n",
      "35\n",
      "35\n",
      "35\n",
      "35\n"
     ]
    }
   ],
   "source": [
    "start_nodes = [0, 0, 0, 0, 0, 0, 0, 0, 0, 0, 0,\n",
    "               11, 11, 11,\n",
    "               12, 12, 12,\n",
    "               13, 13, 13,\n",
    "               14, 14, 14,\n",
    "               15, 15, 15,\n",
    "               16, 16, 16,\n",
    "               17, 17,\n",
    "               18, 18,\n",
    "               19,\n",
    "               20]\n",
    "\n",
    "end_nodes = [1, 2, 3, 4, 5, 6, 7, 8, 9, 10, 21,\n",
    "             3, 5, 12,\n",
    "             4, 6, 13,\n",
    "             5, 7, 14,\n",
    "             6, 8, 15,\n",
    "             7, 9, 16,\n",
    "             8, 10, 17,\n",
    "             9, 18,\n",
    "             10, 19,\n",
    "             20,\n",
    "             21]\n",
    "\n",
    "k = 100\n",
    "capacities = [k, k, k, k, k, k, k, k, k, k, k, k, k, k, k, k,\n",
    "              k, k, k, k, k, k, k, k, k, k, k, k, k, k, k, k, k, k, k]\n",
    "\n",
    "unit_costs = [a, a, a, a, a, a, a, a, a, a, 0,\n",
    "              b, c, 0,\n",
    "              b, c, 0,\n",
    "              b, c, 0,\n",
    "              b, c, 0,\n",
    "              b, c, 0,\n",
    "              b, c, 0,\n",
    "              b, 0,\n",
    "              b, 0,\n",
    "              0,\n",
    "              0]\n",
    "\n",
    "supplies = [6900,\n",
    "            d[0], d[1], d[2], d[3], d[4], d[5], d[6], d[7], d[8], d[9],\n",
    "            -d[0], -d[1], -d[2], -d[3], -d[4], -\n",
    "            d[5], -d[6], -d[7], -d[8], -d[9],\n",
    "            -6900]\n",
    "\n",
    "print(\n",
    "    f'Verificações:\\n{len(start_nodes)}\\n{len(end_nodes)}\\n{len(unit_costs)}\\n{len(capacities)}')\n"
   ]
  },
  {
   "cell_type": "markdown",
   "metadata": {},
   "source": [
    "- Definição dos arcos"
   ]
  },
  {
   "cell_type": "code",
   "execution_count": 27,
   "metadata": {},
   "outputs": [],
   "source": [
    "# Add each arc.\n",
    "for arc in zip(start_nodes, end_nodes, capacities, unit_costs):\n",
    "    min_cost_flow.AddArcWithCapacityAndUnitCost(arc[0], arc[1], arc[2], arc[3])\n",
    "\n",
    "# Add node supply.\n",
    "for count, supply in enumerate(supplies):\n",
    "    min_cost_flow.SetNodeSupply(count, supply)\n"
   ]
  },
  {
   "cell_type": "markdown",
   "metadata": {},
   "source": [
    "- Achanado o custo mínimo"
   ]
  },
  {
   "cell_type": "code",
   "execution_count": 28,
   "metadata": {},
   "outputs": [],
   "source": [
    "# Find the min cost flow.\n",
    "status = min_cost_flow.Solve()\n"
   ]
  },
  {
   "cell_type": "code",
   "execution_count": 29,
   "metadata": {},
   "outputs": [
    {
     "name": "stdout",
     "output_type": "stream",
     "text": [
      "1\n"
     ]
    },
    {
     "data": {
      "text/plain": [
       "3"
      ]
     },
     "execution_count": 29,
     "metadata": {},
     "output_type": "execute_result"
    }
   ],
   "source": [
    "print(min_cost_flow.OPTIMAL)\n",
    "status\n"
   ]
  },
  {
   "cell_type": "code",
   "execution_count": null,
   "metadata": {},
   "outputs": [],
   "source": [
    "if status != min_cost_flow.OPTIMAL:\n",
    "    print('There was an issue with the min cost flow input.')\n",
    "    print(f'Status: {status}')\n",
    "    exit(1)\n",
    "print('Minimum cost: ', min_cost_flow.OptimalCost())\n",
    "print('')\n",
    "print(' Arc   Flow / Capacity  Cost')\n",
    "for i in range(min_cost_flow.NumArcs()):\n",
    "    cost = min_cost_flow.Flow(i) * min_cost_flow.UnitCost(i)\n",
    "    print('%1s -> %1s    %3s   / %3s   %3s' %\n",
    "          (min_cost_flow.Tail(i), min_cost_flow.Head(i),\n",
    "           min_cost_flow.Flow(i), min_cost_flow.Capacity(i), cost))\n"
   ]
  }
 ],
 "metadata": {
  "interpreter": {
   "hash": "f808a16ffd2dd3d41930b4a5b97ff321890e97b682fb7c9c0fe326b99d78ad54"
  },
  "kernelspec": {
   "display_name": "Python 3.9.7 ('base')",
   "language": "python",
   "name": "python3"
  },
  "language_info": {
   "codemirror_mode": {
    "name": "ipython",
    "version": 3
   },
   "file_extension": ".py",
   "mimetype": "text/x-python",
   "name": "python",
   "nbconvert_exporter": "python",
   "pygments_lexer": "ipython3",
   "version": "3.9.7"
  },
  "orig_nbformat": 4
 },
 "nbformat": 4,
 "nbformat_minor": 2
}
