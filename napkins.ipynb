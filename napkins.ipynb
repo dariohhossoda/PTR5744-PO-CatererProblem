{
 "cells": [
  {
   "cell_type": "markdown",
   "metadata": {},
   "source": [
    "# Problema dos Guardanapos"
   ]
  },
  {
   "cell_type": "markdown",
   "metadata": {},
   "source": [
    "Carregamento dos pacotes a serem utilizados.\n",
    "\n",
    "A documentação do pacote ortools pode ser encontrada [aqui](https://developers.google.com/optimization/flow/mincostflow)."
   ]
  },
  {
   "cell_type": "code",
   "execution_count": 1,
   "metadata": {},
   "outputs": [],
   "source": [
    "from ortools.graph import pywrapgraph"
   ]
  },
  {
   "cell_type": "markdown",
   "metadata": {},
   "source": [
    "Declaração do Solver"
   ]
  },
  {
   "cell_type": "code",
   "execution_count": 2,
   "metadata": {},
   "outputs": [],
   "source": [
    "min_cost_flow = pywrapgraph.SimpleMinCostFlow()"
   ]
  },
  {
   "cell_type": "markdown",
   "metadata": {},
   "source": [
    "Definição dos dados"
   ]
  },
  {
   "cell_type": "markdown",
   "metadata": {},
   "source": [
    "- Custos"
   ]
  },
  {
   "cell_type": "code",
   "execution_count": 3,
   "metadata": {},
   "outputs": [],
   "source": [
    "a = 200\n",
    "b = 75\n",
    "c = 25"
   ]
  },
  {
   "cell_type": "markdown",
   "metadata": {},
   "source": [
    "- Tempos de lavagem"
   ]
  },
  {
   "cell_type": "code",
   "execution_count": 4,
   "metadata": {},
   "outputs": [],
   "source": [
    "p = 4\n",
    "q = 2"
   ]
  },
  {
   "cell_type": "markdown",
   "metadata": {},
   "source": [
    "- Quantidade de guardanapos para cada dia"
   ]
  },
  {
   "cell_type": "code",
   "execution_count": 5,
   "metadata": {},
   "outputs": [
    {
     "name": "stdout",
     "output_type": "stream",
     "text": [
      "Serão necessários 690 guardanapos ao longo dos 10 dias.\n"
     ]
    }
   ],
   "source": [
    "d = [50, 60, 80, 70, 50, 60, 90, 80, 50, 100]\n",
    "total = sum(d)\n",
    "print(f'Serão necessários {total} guardanapos ao longo dos 10 dias.')"
   ]
  },
  {
   "cell_type": "markdown",
   "metadata": {},
   "source": [
    "- Definição do grafo\n",
    "\n",
    "A identificação dos nós pode ser vista na [introdução e enunciado do problema](README.md)."
   ]
  },
  {
   "cell_type": "code",
   "execution_count": 6,
   "metadata": {},
   "outputs": [],
   "source": [
    "start_nodes = [0, 0, 0, 0, 0, 0, 0, 0, 0, 0, 0,\n",
    "               11, 11, 11, \n",
    "               12, 12, 12,\n",
    "               13, 13, 13,\n",
    "               14, 14, 14,\n",
    "               15, 15, 15,\n",
    "               16, 16, 16,\n",
    "               17, 17, \n",
    "               18, 18, \n",
    "               19,\n",
    "               20]\n",
    "\n",
    "end_nodes = [1, 2, 3, 4, 5, 6, 7, 8, 9, 10, 21,\n",
    "             3, 5, 12,\n",
    "             4, 6, 13,\n",
    "             5, 7, 14,\n",
    "             6, 8, 15,\n",
    "             7, 9, 16,\n",
    "             8, 10, 17,\n",
    "             9, 18,\n",
    "             10, 19,\n",
    "             20,\n",
    "             21]\n",
    "\n",
    "capacities = []\n",
    "unit_costs = []"
   ]
  }
 ],
 "metadata": {
  "interpreter": {
   "hash": "f808a16ffd2dd3d41930b4a5b97ff321890e97b682fb7c9c0fe326b99d78ad54"
  },
  "kernelspec": {
   "display_name": "Python 3.9.7 ('base')",
   "language": "python",
   "name": "python3"
  },
  "language_info": {
   "codemirror_mode": {
    "name": "ipython",
    "version": 3
   },
   "file_extension": ".py",
   "mimetype": "text/x-python",
   "name": "python",
   "nbconvert_exporter": "python",
   "pygments_lexer": "ipython3",
   "version": "3.9.7"
  },
  "orig_nbformat": 4
 },
 "nbformat": 4,
 "nbformat_minor": 2
}
