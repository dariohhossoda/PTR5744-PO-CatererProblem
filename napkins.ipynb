{
 "cells": [
  {
   "cell_type": "markdown",
   "metadata": {},
   "source": [
    "# Problema dos Guardanapos"
   ]
  },
  {
   "cell_type": "markdown",
   "metadata": {},
   "source": [
    "Carregamento dos pacotes a serem utilizados.\n",
    "\n",
    "A documentação do pacote ortools pode ser encontrada [aqui](https://developers.google.com/optimization/flow/mincostflow)."
   ]
  },
  {
   "cell_type": "code",
   "execution_count": 37,
   "metadata": {},
   "outputs": [],
   "source": [
    "from ortools.graph import pywrapgraph\n"
   ]
  },
  {
   "cell_type": "markdown",
   "metadata": {},
   "source": [
    "Declaração do Solver"
   ]
  },
  {
   "cell_type": "code",
   "execution_count": 38,
   "metadata": {},
   "outputs": [],
   "source": [
    "min_cost_flow = pywrapgraph.SimpleMinCostFlow()\n"
   ]
  },
  {
   "cell_type": "markdown",
   "metadata": {},
   "source": [
    "Definição dos dados"
   ]
  },
  {
   "cell_type": "markdown",
   "metadata": {},
   "source": [
    "- Custos"
   ]
  },
  {
   "cell_type": "code",
   "execution_count": 39,
   "metadata": {},
   "outputs": [],
   "source": [
    "a = 200 # Comprar guardanapos\n",
    "b = 75 # Lavagem rápida\n",
    "c = 25# Lavagem lenta"
   ]
  },
  {
   "cell_type": "markdown",
   "metadata": {},
   "source": [
    "- Tempos de lavagem"
   ]
  },
  {
   "cell_type": "code",
   "execution_count": 40,
   "metadata": {},
   "outputs": [],
   "source": [
    "p = 4 # Lavagem lenta\n",
    "q = 2 # Lavagem rápida"
   ]
  },
  {
   "cell_type": "markdown",
   "metadata": {},
   "source": [
    "- Quantidade de guardanapos para cada dia"
   ]
  },
  {
   "cell_type": "code",
   "execution_count": 41,
   "metadata": {},
   "outputs": [
    {
     "name": "stdout",
     "output_type": "stream",
     "text": [
      "São necessários 690 guardanapos ao longo dos 10 dias.\n"
     ]
    }
   ],
   "source": [
    "d = [-50, -60, -80, -70, -50, -60, -90, -80, -50, -100]\n",
    "total = -sum(d)\n",
    "print(f'São necessários {total} guardanapos ao longo dos 10 dias.')"
   ]
  },
  {
   "cell_type": "markdown",
   "metadata": {},
   "source": [
    "- Definição do grafo\n",
    "\n",
    "A identificação dos nós pode ser vista na [introdução e enunciado do problema](README.md)."
   ]
  },
  {
   "cell_type": "code",
   "execution_count": 42,
   "metadata": {},
   "outputs": [
    {
     "name": "stdout",
     "output_type": "stream",
     "text": [
      "Verificações:\n",
      "\n",
      "No. nós de começo: 35\n",
      "No. nós de fim: 35\n",
      "No. de custos unitários por nó: 35\n",
      "No. de capacidade nos nós: 35\n"
     ]
    }
   ],
   "source": [
    "start_nodes = [0, 0, 0, 0, 0, 0, 0, 0, 0, 0, 0,\n",
    "               11, 11, 11,\n",
    "               12, 12, 12,\n",
    "               13, 13, 13,\n",
    "               14, 14, 14,\n",
    "               15, 15, 15,\n",
    "               16, 16, 16,\n",
    "               17, 17,\n",
    "               18, 18,\n",
    "               19,\n",
    "               20]\n",
    "\n",
    "end_nodes = [1, 2, 3, 4, 5, 6, 7, 8, 9, 10, 21,\n",
    "             3, 5, 12,\n",
    "             4, 6, 13,\n",
    "             5, 7, 14,\n",
    "             6, 8, 15,\n",
    "             7, 9, 16,\n",
    "             8, 10, 17,\n",
    "             9, 18,\n",
    "             10, 19,\n",
    "             20,\n",
    "             21]\n",
    "\n",
    "k = 100\n",
    "capacities = [d[0], d[1], d[2], d[3], d[4], d[5], d[6], d[7], d[8], d[9], 690,\n",
    "              d[0], d[0], d[0],\n",
    "              d[1], d[1], d[1],\n",
    "              d[2], d[2], d[2],\n",
    "              d[3], d[3], d[3],\n",
    "              d[4], d[4], d[4],\n",
    "              d[5], d[5], d[5],\n",
    "              d[6], d[6],\n",
    "              d[7], d[7],\n",
    "              d[8], \n",
    "              d[9]]\n",
    "\n",
    "unit_costs = [a, a, a, a, a, a, a, a, a, a, 0,\n",
    "              b, c, 0,\n",
    "              b, c, 0,\n",
    "              b, c, 0,\n",
    "              b, c, 0,\n",
    "              b, c, 0,\n",
    "              b, c, 0,\n",
    "              b, 0,\n",
    "              b, 0,\n",
    "              0,\n",
    "              0]\n",
    "\n",
    "supplies = [690,\n",
    "            d[0], d[1], d[2], d[3], d[4], d[5], d[6], d[7], d[8], d[9],\n",
    "            -d[0], -d[1], -d[2], -d[3], -d[4], -\n",
    "            d[5], -d[6], -d[7], -d[8], -d[9],\n",
    "            -690]\n",
    "\n",
    "print(f'Verificações:\\n\\n\\\n",
    "No. nós de começo: {len(start_nodes)}\\n\\\n",
    "No. nós de fim: {len(end_nodes)}\\n\\\n",
    "No. de custos unitários por nó: {len(unit_costs)}\\n\\\n",
    "No. de capacidade nos nós: {len(capacities)}')\n"
   ]
  },
  {
   "cell_type": "markdown",
   "metadata": {},
   "source": [
    "- Definição dos arcos"
   ]
  },
  {
   "cell_type": "code",
   "execution_count": 43,
   "metadata": {},
   "outputs": [],
   "source": [
    "# Add each arc.\n",
    "for arc in zip(start_nodes, end_nodes, capacities, unit_costs):\n",
    "    min_cost_flow.AddArcWithCapacityAndUnitCost(arc[0], arc[1], arc[2], arc[3])\n",
    "\n",
    "# Add node supply.\n",
    "for count, supply in enumerate(supplies):\n",
    "    min_cost_flow.SetNodeSupply(count, supply)\n"
   ]
  },
  {
   "cell_type": "markdown",
   "metadata": {},
   "source": [
    "- Achanado o custo mínimo"
   ]
  },
  {
   "cell_type": "code",
   "execution_count": 44,
   "metadata": {},
   "outputs": [],
   "source": [
    "# Find the min cost flow.\n",
    "status = min_cost_flow.Solve()\n"
   ]
  },
  {
   "cell_type": "code",
   "execution_count": 45,
   "metadata": {},
   "outputs": [
    {
     "name": "stdout",
     "output_type": "stream",
     "text": [
      "1\n"
     ]
    },
    {
     "data": {
      "text/plain": [
       "5"
      ]
     },
     "execution_count": 45,
     "metadata": {},
     "output_type": "execute_result"
    }
   ],
   "source": [
    "print(min_cost_flow.OPTIMAL)\n",
    "status\n"
   ]
  },
  {
   "cell_type": "code",
   "execution_count": 46,
   "metadata": {},
   "outputs": [],
   "source": [
    "# if status != min_cost_flow.OPTIMAL:\n",
    "#     print('There was an issue with the min cost flow input.')\n",
    "#     print(f'Status: {status}')\n",
    "#     exit(1)\n",
    "# print('Minimum cost: ', min_cost_flow.OptimalCost())\n",
    "# print('')\n",
    "# print(' Arc   Flow / Capacity  Cost')\n",
    "# for i in range(min_cost_flow.NumArcs()):\n",
    "#     cost = min_cost_flow.Flow(i) * min_cost_flow.UnitCost(i)\n",
    "#     print('%1s -> %1s    %3s   / %3s   %3s' %\n",
    "#           (min_cost_flow.Tail(i), min_cost_flow.Head(i),\n",
    "#            min_cost_flow.Flow(i), min_cost_flow.Capacity(i), cost))\n"
   ]
  }
 ],
 "metadata": {
  "interpreter": {
   "hash": "f808a16ffd2dd3d41930b4a5b97ff321890e97b682fb7c9c0fe326b99d78ad54"
  },
  "kernelspec": {
   "display_name": "Python 3.9.7 ('base')",
   "language": "python",
   "name": "python3"
  },
  "language_info": {
   "codemirror_mode": {
    "name": "ipython",
    "version": 3
   },
   "file_extension": ".py",
   "mimetype": "text/x-python",
   "name": "python",
   "nbconvert_exporter": "python",
   "pygments_lexer": "ipython3",
   "version": "3.9.7"
  },
  "orig_nbformat": 4
 },
 "nbformat": 4,
 "nbformat_minor": 2
}
